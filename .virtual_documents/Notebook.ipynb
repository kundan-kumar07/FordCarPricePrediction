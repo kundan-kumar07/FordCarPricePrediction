import pandas as pd
import numpy as np
import matplotlib.pyplot as  plt
import seaborn as sns



df=pd.read_csv("ford.csv")


#EDA
sns.histplot(df['price'],bins=50,kde=True)


sns.heatmap(df.corr(numeric_only=True),annot=True)


sns.boxplot(data=df,x='year',y='price')


sns.scatterplot(data=df,x='mileage',y='price')


sns.boxplot(data=df,x='engineSize',y='price')


sns.boxplot(data=df,x='transmission',y='price')


sns.boxplot(data=df,x='fuelType',y='price')


sns.boxplot(data=df,x='model',y='price')
plt.xticks(rotation=90)


sns.boxplot(data=df,x='tax',y='price')


sns.boxplot(data=df,x='mpg',y='price')



X=df.drop(columns=['price'],axis=1)



y=df['price']


df.columns



X_one_encode=pd.get_dummies(X,columns=['model','transmission','fuelType'],drop_first=True)



X_one_encode=X_one_encode.astype(int)




from sklearn.preprocessing import LabelEncoder

cols = ['model', 'transmission', 'fuelType']

# Strip leading/trailing spaces and make a copy
X_label = X.copy()
for col in cols:
    X_label[col] = X_label[col].astype(str).str.strip()

# Apply LabelEncoder
label_encoders = {}
for col in cols:
    le = LabelEncoder()
    X_label[col] = le.fit_transform(X_label[col])
    label_encoders[col] = le

# Check unique values after encoding
for col in cols:
    print(f"{col} unique values:", X_label[col].nunique())



from sklearn.preprocessing import StandardScaler
numerial_cols=['year','mileage','tax','mpg','engineSize']
scaler=StandardScaler()


X_one_encode[numerial_cols]=scaler.fit_transform(X_one_encode[numerial_cols])









#Training model with oneHotEncoding
from sklearn.model_selection import train_test_split
from sklearn.linear_model import LinearRegression
from sklearn.metrics import mean_absolute_error,mean_squared_error,r2_score


X_train, X_test, y_train, y_test = train_test_split(X_one_encode, y, test_size=0.33, random_state=42)


model=LinearRegression()
model.fit(X_train,y_train)



y_pred=model.predict(X_test)
y_pred


y_test


r2=r2_score(y_test,y_pred)
r2


#Training model with label encoding 
from sklearn.model_selection import train_test_split
from sklearn.preprocessing import StandardScaler
from sklearn.linear_model import LinearRegression


X_train, X_test, y_train, y_test = train_test_split(X_label, y, test_size=0.33, random_state=42)


scaler = StandardScaler()
X_train_scaled = pd.DataFrame(scaler.fit_transform(X_train), columns=X_train.columns, index=X_train.index)
X_test_scaled = pd.DataFrame(scaler.transform(X_test), columns=X_test.columns, index=X_test.index)


model = LinearRegression()
model.fit(X_train_scaled, y_train)


y_pred = model.predict(X_test_scaled)
print(y_pred)  
r2=r2_score(y_test,y_pred)
r2






import joblib

joblib.dump(model, "car_price_model.pkl")


joblib.dump(scaler, "scaler.pkl")


import pickle
with open("label_encoders.pkl", "wb") as f:
    pickle.dump(label_encoders, f)

